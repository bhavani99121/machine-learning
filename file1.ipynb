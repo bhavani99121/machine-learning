{
  "nbformat": 4,
  "nbformat_minor": 0,
  "metadata": {
    "colab": {
      "provenance": [],
      "authorship_tag": "ABX9TyNp3cW/SFzm/UZEV2WYdwhF",
      "include_colab_link": true
    },
    "kernelspec": {
      "name": "python3",
      "display_name": "Python 3"
    },
    "language_info": {
      "name": "python"
    }
  },
  "cells": [
    {
      "cell_type": "markdown",
      "metadata": {
        "id": "view-in-github",
        "colab_type": "text"
      },
      "source": [
        "<a href=\"https://colab.research.google.com/github/bhavani99121/machine-learning/blob/main/file1.ipynb\" target=\"_parent\"><img src=\"https://colab.research.google.com/assets/colab-badge.svg\" alt=\"Open In Colab\"/></a>"
      ]
    },
    {
      "cell_type": "code",
      "execution_count": 3,
      "metadata": {
        "colab": {
          "base_uri": "https://localhost:8080/",
          "height": 1000
        },
        "id": "aSidS093jDCC",
        "outputId": "bd62544e-74df-4818-b622-2f01ae03e620"
      },
      "outputs": [
        {
          "output_type": "stream",
          "name": "stdout",
          "text": [
            "the data is:\n",
            "     YearsExperience    Salary\n",
            "0               1.1   39343.0\n",
            "1               1.3   46205.0\n",
            "2               1.5   37731.0\n",
            "3               2.0   43525.0\n",
            "4               2.2   39891.0\n",
            "5               2.9   56642.0\n",
            "6               3.0   60150.0\n",
            "7               3.2   54445.0\n",
            "8               3.2   64445.0\n",
            "9               3.7   57189.0\n",
            "10              3.9   63218.0\n",
            "11              4.0   55794.0\n",
            "12              4.0   56957.0\n",
            "13              4.1   57081.0\n",
            "14              4.5   61111.0\n",
            "15              4.9   67938.0\n",
            "16              5.1   66029.0\n",
            "17              5.3   83088.0\n",
            "18              5.9   81363.0\n",
            "19              6.0   93940.0\n",
            "20              6.8   91738.0\n",
            "21              7.1   98273.0\n",
            "22              7.9  101302.0\n",
            "23              8.2  113812.0\n",
            "24              8.7  109431.0\n",
            "25              9.0  105582.0\n",
            "26              9.5  116969.0\n",
            "27              9.6  112635.0\n",
            "28             10.3  122391.0\n",
            "29             10.5  121872.0\n",
            "the YearsExperience\n",
            " [ 1.1  1.3  1.5  2.   2.2  2.9  3.   3.2  3.2  3.7  3.9  4.   4.   4.1\n",
            "  4.5  4.9  5.1  5.3  5.9  6.   6.8  7.1  7.9  8.2  8.7  9.   9.5  9.6\n",
            " 10.3 10.5]\n",
            "the salary is:\n",
            " [ 39343.  46205.  37731.  43525.  39891.  56642.  60150.  54445.  64445.\n",
            "  57189.  63218.  55794.  56957.  57081.  61111.  67938.  66029.  83088.\n",
            "  81363.  93940.  91738.  98273. 101302. 113812. 109431. 105582. 116969.\n",
            " 112635. 122391. 121872.]\n",
            "the cofficients are:\n",
            " 9449.962321455077\n",
            "the coefficients are:\n",
            " 25792.20019866869\n",
            "30628.884270708084\n",
            "the mean square error is:\n",
            "\n"
          ]
        },
        {
          "output_type": "display_data",
          "data": {
            "text/plain": [
              "<Figure size 432x288 with 1 Axes>"
            ],
            "image/png": "[encoded data removed]"
          },
          "metadata": {
            "needs_background": "light"
          }
        }
      ],
      "source": [
        "import numpy as np\n",
        "import pandas as pd\n",
        "import matplotlib.pyplot as plt\n",
        "data =pd.read_csv(\"Salary_Data-1.csv\")\n",
        "print(\"the data is:\\n\",data)\n",
        "x=data['YearsExperience'].values\n",
        "print(\"the YearsExperience\\n\",x)\n",
        "y=data['Salary'].values\n",
        "print(\"the salary is:\\n\",y)\n",
        "meanx=np.mean(x)\n",
        "meany=np.mean(y)\n",
        "nr=0\n",
        "dr=0\n",
        "n=len(x)\n",
        "for i in range(n):\n",
        "  nr+=(x[i]-meanx)*(y[i]-meany)\n",
        "  dr+=(x[i]-meanx)**2\n",
        "m=nr/dr\n",
        "c=meany-(m*meanx)\n",
        "print(\"the cofficients are:\\n\",m)\n",
        "print(\"the coefficients are:\\n\",c)\n",
        "\n",
        "plt.plot(x,y,marker='s',ms=\"10\",c='blue',ls=\"dotted\")\n",
        "plt.scatter(x,y,c='black')\n",
        "plt.grid(axis=\"both\",ls=\"dashed\",lw=1,c=\"g\")\n",
        "plt.xlabel(\"YEARS EXPERIENCE\")\n",
        "plt.ylabel(\"SALARY\")\n",
        "plt.title(\"SALARY DATASET\")\n",
        "mse=0\n",
        "for i in range(n):\n",
        "  ypred=(m*x[i])+c\n",
        "  mse+=(y[i]-ypred)**2\n",
        "mse=np.sqrt(mse)\n",
        "print(mse)\n",
        "mse=mse/n\n",
        "print(\"the mean square error is:\\n\")"
      ]
    }
  ]
}